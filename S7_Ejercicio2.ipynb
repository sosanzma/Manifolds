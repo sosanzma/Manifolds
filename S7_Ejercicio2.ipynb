{
 "cells": [
  {
   "cell_type": "code",
   "execution_count": 1,
   "id": "cc7f5968",
   "metadata": {},
   "outputs": [],
   "source": [
    "from openTSNE import TSNE\n",
    "from resources import utils\n",
    "import numpy as np\n",
    "from sklearn.model_selection import train_test_split\n",
    "import matplotlib.pyplot as plt\n",
    "from sklearn.datasets import fetch_olivetti_faces\n",
    "from sklearn.cluster import MiniBatchKMeans\n",
    "from sklearn import decomposition\n",
    "from sklearn.metrics import classification_report\n",
    "from sklearn.metrics import accuracy_score\n",
    "from sklearn.manifold import Isomap\n",
    "from sklearn.manifold import MDS\n",
    "from sklearn.manifold import LocallyLinearEmbedding\n",
    "\n",
    "from sklearn.discriminant_analysis import LinearDiscriminantAnalysis"
   ]
  },
  {
   "cell_type": "code",
   "execution_count": 2,
   "id": "2b0310eb",
   "metadata": {},
   "outputs": [],
   "source": [
    "#Load faces data\n",
    "dataset = fetch_olivetti_faces(shuffle=True, random_state=42)\n",
    "faces = dataset.data\n",
    "n_samples, n_features = faces.shape\n"
   ]
  },
  {
   "cell_type": "code",
   "execution_count": 3,
   "id": "1497b836",
   "metadata": {},
   "outputs": [],
   "source": [
    "targets = dataset.target\n",
    "X_train, X_test, y_train, y_test=train_test_split(faces, targets, test_size=0.3, stratify=targets, random_state=0)\n"
   ]
  },
  {
   "cell_type": "markdown",
   "id": "4acaf5fa",
   "metadata": {},
   "source": [
    "## PCA"
   ]
  },
  {
   "cell_type": "code",
   "execution_count": 4,
   "id": "50354b36",
   "metadata": {},
   "outputs": [
    {
     "name": "stdout",
     "output_type": "stream",
     "text": [
      "0.7833333333333333\n"
     ]
    }
   ],
   "source": [
    "# pca\n",
    "pca = decomposition.PCA(n_components=10)\n",
    "X_train_pca = pca.fit_transform(X_train)\n",
    "\n",
    "X_pca = pca.transform(X_test)\n",
    "\n",
    "\n",
    "clf = LinearDiscriminantAnalysis()\n",
    "clf.fit(X_train_pca, y_train)\n",
    "Y_pca = clf.predict(X_pca)\n",
    "print(accuracy_score(y_test, Y_pca))"
   ]
  },
  {
   "cell_type": "markdown",
   "id": "e1afdf70",
   "metadata": {},
   "source": [
    "## MDS"
   ]
  },
  {
   "cell_type": "code",
   "execution_count": 8,
   "id": "089966a8",
   "metadata": {},
   "outputs": [
    {
     "name": "stdout",
     "output_type": "stream",
     "text": [
      "0.775\n"
     ]
    }
   ],
   "source": [
    "mds = MDS(n_components=10)\n",
    "X_mds = mds.fit_transform(faces)\n",
    "\n",
    "# distribuimos una vez todo el data set transformado porque no esta el método .transform\n",
    "X_train_mds, X_test_mds, y_train, y_test=train_test_split(X_mds, targets, test_size=0.3, stratify=targets, random_state=0)\n",
    "\n",
    "clf = LinearDiscriminantAnalysis()\n",
    "clf.fit(X_train_mds, y_train)\n",
    "Y_mds = clf.predict(X_test_mds)\n",
    "print(accuracy_score(y_test, Y_mds))"
   ]
  },
  {
   "cell_type": "markdown",
   "id": "e15282a4",
   "metadata": {},
   "source": [
    "## ISOMAP"
   ]
  },
  {
   "cell_type": "code",
   "execution_count": 7,
   "id": "3456c488",
   "metadata": {},
   "outputs": [
    {
     "name": "stdout",
     "output_type": "stream",
     "text": [
      "0.6666666666666666\n"
     ]
    }
   ],
   "source": [
    "embedding = Isomap(n_components=10,n_neighbors=12)\n",
    "X_train_isomap = embedding.fit_transform(X_train)\n",
    "\n",
    "X_isomap = embedding.transform(X_test)\n",
    "\n",
    "\n",
    "clf = LinearDiscriminantAnalysis()\n",
    "clf.fit(X_train_isomap, y_train)\n",
    "Y_isomap = clf.predict(X_isomap)\n",
    "print(accuracy_score(y_test, Y_isomap))"
   ]
  },
  {
   "cell_type": "markdown",
   "id": "1ff8de39",
   "metadata": {},
   "source": [
    "## LLE"
   ]
  },
  {
   "cell_type": "code",
   "execution_count": 9,
   "id": "741490c3",
   "metadata": {},
   "outputs": [
    {
     "name": "stdout",
     "output_type": "stream",
     "text": [
      "0.6083333333333333\n"
     ]
    }
   ],
   "source": [
    "embedding = LocallyLinearEmbedding(n_components=10,n_neighbors=12)\n",
    "X_train_lle = embedding.fit_transform(X_train)\n",
    "\n",
    "X_lle = embedding.transform(X_test)\n",
    "\n",
    "\n",
    "clf = LinearDiscriminantAnalysis()\n",
    "clf.fit(X_train_lle, y_train)\n",
    "Y_lle = clf.predict(X_lle)\n",
    "print(accuracy_score(y_test, Y_lle))\n"
   ]
  },
  {
   "cell_type": "markdown",
   "id": "11149960",
   "metadata": {},
   "source": [
    "## TSNE de Open TSNE"
   ]
  },
  {
   "cell_type": "code",
   "execution_count": 38,
   "id": "f07aeb21",
   "metadata": {},
   "outputs": [
    {
     "name": "stdout",
     "output_type": "stream",
     "text": [
      "--------------------------------------------------------------------------------\n",
      "TSNE(n_components=10, verbose=True)\n",
      "--------------------------------------------------------------------------------\n",
      "===> Finding 90 nearest neighbors using exact search using euclidean distance...\n",
      "   --> Time elapsed: 0.04 seconds\n",
      "===> Calculating affinity matrix...\n",
      "   --> Time elapsed: 0.02 seconds\n",
      "===> Calculating PCA-based initialization...\n",
      "   --> Time elapsed: 0.03 seconds\n",
      "===> Running optimization with exaggeration=12.00, lr=200.00 for 250 iterations...\n",
      "Iteration   50, KL divergence 2.4384, 50 iterations in 9.8550 sec\n",
      "Iteration  100, KL divergence 2.4181, 50 iterations in 7.8909 sec\n",
      "Iteration  150, KL divergence 2.4075, 50 iterations in 6.8404 sec\n",
      "Iteration  200, KL divergence 2.4070, 50 iterations in 6.8835 sec\n",
      "Iteration  250, KL divergence 2.4069, 50 iterations in 7.4423 sec\n",
      "   --> Time elapsed: 38.91 seconds\n",
      "===> Running optimization with exaggeration=1.00, lr=200.00 for 500 iterations...\n",
      "Iteration   50, KL divergence 0.4867, 50 iterations in 11.6331 sec\n",
      "Iteration  100, KL divergence 0.4309, 50 iterations in 12.0672 sec\n",
      "Iteration  150, KL divergence 0.4181, 50 iterations in 12.4304 sec\n",
      "Iteration  200, KL divergence 0.4143, 50 iterations in 11.0426 sec\n",
      "Iteration  250, KL divergence 0.4122, 50 iterations in 10.9202 sec\n",
      "Iteration  300, KL divergence 0.4105, 50 iterations in 10.3786 sec\n",
      "Iteration  350, KL divergence 0.4095, 50 iterations in 10.8474 sec\n",
      "Iteration  400, KL divergence 0.4086, 50 iterations in 11.9208 sec\n",
      "Iteration  450, KL divergence 0.4082, 50 iterations in 11.4669 sec\n",
      "Iteration  500, KL divergence 0.4078, 50 iterations in 11.6403 sec\n",
      "   --> Time elapsed: 114.35 seconds\n",
      "0.7083333333333334\n"
     ]
    }
   ],
   "source": [
    "tsne2 = TSNE(perplexity = 30, early_exaggeration = 12, initialization='pca', verbose = True,n_components=10)\n",
    "\n",
    "X_tsne = tsne2.fit(faces)\n",
    "\n",
    "# distribuimos una vez todo el data set transformado porque no esta el método .transform\n",
    "X_train_tsne, X_test_tsne, y_train, y_test=train_test_split(X_tsne, targets, test_size=0.3, stratify=targets, random_state=0)\n",
    "\n",
    "clf = LinearDiscriminantAnalysis()\n",
    "clf.fit(X_train_tsne, y_train)\n",
    "Y_tsne = clf.predict(X_test_tsne)\n",
    "print(accuracy_score(y_test, Y_tsne))\n"
   ]
  },
  {
   "cell_type": "markdown",
   "id": "2eed7620",
   "metadata": {},
   "source": [
    "## TSNE de sklearn"
   ]
  },
  {
   "cell_type": "code",
   "execution_count": 45,
   "id": "e28bf35e",
   "metadata": {},
   "outputs": [
    {
     "name": "stdout",
     "output_type": "stream",
     "text": [
      "0.15833333333333333\n"
     ]
    }
   ],
   "source": [
    "from sklearn.manifold import TSNE as TSNEsk\n",
    "\n",
    "tsne2 = TSNEsk(n_components=10,method=\"exact\") # el otro metodo no me deja con más de 4 componentes\n",
    "\n",
    "X_tsne = tsne2.fit_transform(faces)\n",
    "\n",
    "# distribuimos una vez todo el data set transformado porque no esta el método .transform\n",
    "X_train_tsne, X_test_tsne, y_train, y_test=train_test_split(X_tsne, targets, test_size=0.3, stratify=targets, random_state=0)\n",
    "\n",
    "clf = LinearDiscriminantAnalysis()\n",
    "clf.fit(X_train_tsne, y_train)\n",
    "Y_tsne = clf.predict(X_test_tsne)\n",
    "print(accuracy_score(y_test, Y_tsne))"
   ]
  },
  {
   "cell_type": "markdown",
   "id": "24bc4e1c",
   "metadata": {},
   "source": [
    "## Ahora vamos a iterar el numero de componentes \n"
   ]
  },
  {
   "cell_type": "markdown",
   "id": "873314b1",
   "metadata": {},
   "source": [
    "## PCA"
   ]
  },
  {
   "cell_type": "code",
   "execution_count": 20,
   "id": "73a644cb",
   "metadata": {},
   "outputs": [
    {
     "data": {
      "text/plain": [
       "Text(0.5, 1.0, 'evolucion accuracy')"
      ]
     },
     "execution_count": 20,
     "metadata": {},
     "output_type": "execute_result"
    },
    {
     "data": {
      "image/png": "[encoded data removed]",
      "text/plain": [
       "<Figure size 432x288 with 1 Axes>"
      ]
     },
     "metadata": {
      "needs_background": "light"
     },
     "output_type": "display_data"
    }
   ],
   "source": [
    "res = []\n",
    "s = []\n",
    "for n in range ( 5,15):\n",
    "    pca = decomposition.PCA(n_components=n)\n",
    "    X_train_pca = pca.fit_transform(X_train)\n",
    "\n",
    "    X_pca = pca.transform(X_test)\n",
    "\n",
    "\n",
    "    clf = LinearDiscriminantAnalysis()\n",
    "    clf.fit(X_train_pca, y_train)\n",
    "    Y_pca = clf.predict(X_pca)\n",
    "    res.append(accuracy_score(y_test, Y_pca))\n",
    "    s.append(n)\n",
    "plt.plot(s,res,\".\")\n",
    "plt.title(\"evolucion accuracy\")"
   ]
  },
  {
   "cell_type": "markdown",
   "id": "60a78600",
   "metadata": {},
   "source": [
    "## MDS"
   ]
  },
  {
   "cell_type": "code",
   "execution_count": 26,
   "id": "c0ffbf52",
   "metadata": {},
   "outputs": [
    {
     "data": {
      "text/plain": [
       "Text(0.5, 1.0, 'evolucion accuracy')"
      ]
     },
     "execution_count": 26,
     "metadata": {},
     "output_type": "execute_result"
    },
    {
     "data": {
      "image/png": "[encoded data removed]",
      "text/plain": [
       "<Figure size 432x288 with 1 Axes>"
      ]
     },
     "metadata": {
      "needs_background": "light"
     },
     "output_type": "display_data"
    }
   ],
   "source": [
    "res = []\n",
    "s = []\n",
    "for n in range ( 5,15):\n",
    "    mds = MDS(n_components=n)\n",
    "    X_mds = mds.fit_transform(faces)\n",
    "\n",
    "    # distribuimos una vez todo el data set transformado porque no esta el método .transform\n",
    "    X_train_mds, X_test_mds, y_train, y_test=train_test_split(X_mds, targets, test_size=0.3, stratify=targets, random_state=0)\n",
    "\n",
    "    clf = LinearDiscriminantAnalysis()\n",
    "    clf.fit(X_train_mds, y_train)\n",
    "    Y_mds = clf.predict(X_test_mds)\n",
    "    res.append(accuracy_score(y_test, Y_mds))\n",
    "    s.append(n)\n",
    "plt.plot(s,res,\".\")\n",
    "plt.title(\"evolucion accuracy\")"
   ]
  },
  {
   "cell_type": "markdown",
   "id": "52db4d85",
   "metadata": {},
   "source": [
    "##  Isomap"
   ]
  },
  {
   "cell_type": "code",
   "execution_count": 27,
   "id": "acf09727",
   "metadata": {},
   "outputs": [
    {
     "data": {
      "text/plain": [
       "Text(0.5, 1.0, 'evolucion accuracy')"
      ]
     },
     "execution_count": 27,
     "metadata": {},
     "output_type": "execute_result"
    },
    {
     "data": {
      "image/png": "[encoded data removed]",
      "text/plain": [
       "<Figure size 432x288 with 1 Axes>"
      ]
     },
     "metadata": {
      "needs_background": "light"
     },
     "output_type": "display_data"
    }
   ],
   "source": [
    "res = []\n",
    "s = []\n",
    "for n in range ( 5,15):\n",
    "    embedding = Isomap(n_components=n,n_neighbors=12)\n",
    "    X_train_isomap = embedding.fit_transform(X_train)\n",
    "\n",
    "    X_isomap = embedding.transform(X_test)\n",
    "\n",
    "\n",
    "    clf = LinearDiscriminantAnalysis()\n",
    "    clf.fit(X_train_isomap, y_train)\n",
    "    Y_isomap = clf.predict(X_isomap)\n",
    "    res.append(accuracy_score(y_test, Y_isomap))\n",
    "    s.append(n)\n",
    "plt.plot(s,res,\".\")\n",
    "plt.title(\"evolucion accuracy\")"
   ]
  },
  {
   "cell_type": "markdown",
   "id": "b234b41a",
   "metadata": {},
   "source": [
    "## LLE"
   ]
  },
  {
   "cell_type": "code",
   "execution_count": 28,
   "id": "83d7d1ae",
   "metadata": {},
   "outputs": [
    {
     "data": {
      "text/plain": [
       "Text(0.5, 1.0, 'evolucion accuracy')"
      ]
     },
     "execution_count": 28,
     "metadata": {},
     "output_type": "execute_result"
    },
    {
     "data": {
      "image/png": "[encoded data removed]",
      "text/plain": [
       "<Figure size 432x288 with 1 Axes>"
      ]
     },
     "metadata": {
      "needs_background": "light"
     },
     "output_type": "display_data"
    }
   ],
   "source": [
    "res = []\n",
    "s = []\n",
    "for n in range ( 5,15):\n",
    "    embedding = LocallyLinearEmbedding(n_components=n,n_neighbors=12)\n",
    "    X_train_lle = embedding.fit_transform(X_train)\n",
    "\n",
    "    X_lle = embedding.transform(X_test)\n",
    "\n",
    "\n",
    "    clf = LinearDiscriminantAnalysis()\n",
    "    clf.fit(X_train_lle, y_train)\n",
    "    Y_lle = clf.predict(X_lle)\n",
    "    res.append(accuracy_score(y_test, Y_lle))\n",
    "    s.append(n)\n",
    "plt.plot(s,res,\".\")\n",
    "plt.title(\"evolucion accuracy\")\n"
   ]
  },
  {
   "cell_type": "markdown",
   "id": "6524327f",
   "metadata": {},
   "source": [
    "## TSNE 1"
   ]
  },
  {
   "cell_type": "code",
   "execution_count": 47,
   "id": "553120f3",
   "metadata": {},
   "outputs": [
    {
     "name": "stderr",
     "output_type": "stream",
     "text": [
      "\n",
      "KeyboardInterrupt\n",
      "\n"
     ]
    }
   ],
   "source": [
    "# tardaa mucho en compilar\n",
    "res = []\n",
    "s = []\n",
    "for n in range ( 5,15):\n",
    "\n",
    "    tsne2 = TSNE(perplexity = 30, early_exaggeration = 12, initialization='pca',n_components=n,random_state=0)\n",
    "\n",
    "    X_tsne = tsne2.fit(faces)\n",
    "\n",
    "    # distribuimos una vez todo el data set transformado porque no esta el método .transform\n",
    "    X_train_tsne, X_test_tsne, y_train, y_test=train_test_split(X_tsne, targets, test_size=0.3, stratify=targets, random_state=0)\n",
    "\n",
    "    clf = LinearDiscriminantAnalysis()\n",
    "    clf.fit(X_train_tsne, y_train)\n",
    "    Y_tsne = clf.predict(X_test_tsne)\n",
    "    res.append(accuracy_score(y_test, Y_tsne))\n",
    "    s.append(n)\n",
    "plt.plot(s,res,\".\")\n",
    "plt.title(\"evolucion accuracy\")\n"
   ]
  },
  {
   "cell_type": "markdown",
   "id": "8ac804fc",
   "metadata": {},
   "source": [
    "## TSNE 2 \n",
    "\n",
    "Este algortimo no me deja iterar para valores de n_componentes mayores que 4"
   ]
  },
  {
   "cell_type": "code",
   "execution_count": null,
   "id": "338b1530",
   "metadata": {},
   "outputs": [],
   "source": [
    "# tampoco lo he corrido por la cantidad de tiempo que necesita\n",
    "\n",
    "# es\n",
    "res = []\n",
    "s = []\n",
    "for n in range ( 5,15):\n",
    "\n",
    "    tsne2 = TSNEsk(n_components=n,method=\"exact\")\n",
    "\n",
    "    X_tsne = tsne2.fit_transform(faces)\n",
    "\n",
    "    # distribuimos una vez todo el data set transformado porque no esta el método .transform\n",
    "    X_train_tsne, X_test_tsne, y_train, y_test=train_test_split(X_tsne, targets, test_size=0.3, stratify=targets, random_state=0)\n",
    "\n",
    "    clf = LinearDiscriminantAnalysis()\n",
    "    clf.fit(X_train_tsne, y_train)\n",
    "    Y_tsne = clf.predict(X_test_tsne)\n",
    "    res.append(accuracy_score(y_test, Y_tsne))\n",
    "    s.append(n)\n",
    "plt.plot(s,res,\".\")\n",
    "plt.title(\"evolucion accuracy\")"
   ]
  },
  {
   "cell_type": "markdown",
   "id": "919b98eb",
   "metadata": {},
   "source": [
    "Vemos que los metodos mejorar su precision cuanto más grande es el número de componentes"
   ]
  },
  {
   "cell_type": "code",
   "execution_count": null,
   "id": "0cb4e267",
   "metadata": {},
   "outputs": [],
   "source": []
  }
 ],
 "metadata": {
  "kernelspec": {
   "display_name": "Python 3 (ipykernel)",
   "language": "python",
   "name": "python3"
  },
  "language_info": {
   "codemirror_mode": {
    "name": "ipython",
    "version": 3
   },
   "file_extension": ".py",
   "mimetype": "text/x-python",
   "name": "python",
   "nbconvert_exporter": "python",
   "pygments_lexer": "ipython3",
   "version": "3.9.7"
  }
 },
 "nbformat": 4,
 "nbformat_minor": 5
}
